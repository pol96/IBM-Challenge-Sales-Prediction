{
 "cells": [
  {
   "cell_type": "code",
   "execution_count": 37,
   "metadata": {},
   "outputs": [],
   "source": [
    "import pandas as pd\n",
    "import numpy as np\n",
    "import matplotlib.pyplot as plt\n",
    "\n",
    "from lightgbm import LGBMRegressor\n",
    "from  sklearn.metrics import mean_squared_error, mean_absolute_error\n",
    "\n",
    "import import_ipynb\n",
    "import TimeSeriesFunctions as tsf"
   ]
  },
  {
   "cell_type": "code",
   "execution_count": 2,
   "metadata": {
    "scrolled": true
   },
   "outputs": [
    {
     "name": "stderr",
     "output_type": "stream",
     "text": [
      "C:\\Users\\Utente\\Miniconda3\\lib\\site-packages\\numpy\\lib\\arraysetops.py:569: FutureWarning: elementwise comparison failed; returning scalar instead, but in the future will perform elementwise comparison\n",
      "  mask |= (ar1 == a)\n"
     ]
    }
   ],
   "source": [
    "data=pd.read_csv('data.csv', index_col=0)"
   ]
  },
  {
   "cell_type": "markdown",
   "metadata": {},
   "source": [
    "Drop means, not correct and recompute"
   ]
  },
  {
   "cell_type": "code",
   "execution_count": 3,
   "metadata": {},
   "outputs": [],
   "source": [
    "data.drop(['city_mean','shop_mean','item_type_mean','subtype_mean','tot_revenues'],1,inplace=True)"
   ]
  },
  {
   "cell_type": "code",
   "execution_count": 4,
   "metadata": {
    "scrolled": true
   },
   "outputs": [
    {
     "data": {
      "text/plain": [
       "Index(['date_block_num', 'shop_id', 'city_code', 'item_id', 'item_category_id',\n",
       "       'type', 'subtype', 'item_cnt_month', 'tot_revenues', 'item_count_lag_1',\n",
       "       'item_count_lag_2', 'item_count_lag_3', 'item_count_lag_6',\n",
       "       'item_count_lag_12', 'item_count_lag_1_trend6',\n",
       "       'item_count_lag_1_trend12'],\n",
       "      dtype='object')"
      ]
     },
     "execution_count": 4,
     "metadata": {},
     "output_type": "execute_result"
    }
   ],
   "source": [
    "data=data.rename(columns={'datecode':'date_block_num','item_count':'item_cnt_month'})\n",
    "data.columns"
   ]
  },
  {
   "cell_type": "markdown",
   "metadata": {},
   "source": [
    "Feature extraction"
   ]
  },
  {
   "cell_type": "code",
   "execution_count": 5,
   "metadata": {},
   "outputs": [],
   "source": [
    "def lag_feature(df, lags, col):\n",
    "    tmp = df[['date_block_num','shop_id','item_id',col]]\n",
    "    for i in lags:\n",
    "        shifted = tmp.copy()\n",
    "        shifted.columns = ['date_block_num','shop_id','item_id', col+'_lag_'+str(i)]\n",
    "        shifted['date_block_num'] += i\n",
    "        df = pd.merge(df, shifted, on=['date_block_num','shop_id','item_id'], how='left')\n",
    "    return df"
   ]
  },
  {
   "cell_type": "code",
   "execution_count": 6,
   "metadata": {},
   "outputs": [],
   "source": [
    "#Compute thee average quantity sold per month\n",
    "group = data.groupby(['date_block_num', 'item_id']).agg({'item_cnt_month': ['mean']})\n",
    "group.columns = [ 'date_item_avg_item_cnt' ]\n",
    "group.reset_index(inplace=True)\n",
    "##merge\n",
    "data = pd.merge(data, group, on=['date_block_num','item_id'], how='left')\n",
    "data['date_item_avg_item_cnt'] = data['date_item_avg_item_cnt'].astype(np.float16)\n",
    "## use lag feature as before\n",
    "data = lag_feature(data, [1,2,3,6,12], 'date_item_avg_item_cnt')\n",
    "data.drop(['date_item_avg_item_cnt'], axis=1, inplace=True)"
   ]
  },
  {
   "cell_type": "code",
   "execution_count": 7,
   "metadata": {},
   "outputs": [
    {
     "data": {
      "text/plain": [
       "Index(['date_block_num', 'shop_id', 'city_code', 'item_id', 'item_category_id',\n",
       "       'type', 'subtype', 'item_cnt_month', 'tot_revenues', 'item_count_lag_1',\n",
       "       'item_count_lag_2', 'item_count_lag_3', 'item_count_lag_6',\n",
       "       'item_count_lag_12', 'item_count_lag_1_trend6',\n",
       "       'item_count_lag_1_trend12', 'date_item_avg_item_cnt_lag_1',\n",
       "       'date_item_avg_item_cnt_lag_2', 'date_item_avg_item_cnt_lag_3',\n",
       "       'date_item_avg_item_cnt_lag_6', 'date_item_avg_item_cnt_lag_12'],\n",
       "      dtype='object')"
      ]
     },
     "execution_count": 7,
     "metadata": {},
     "output_type": "execute_result"
    }
   ],
   "source": [
    "data.columns"
   ]
  },
  {
   "cell_type": "code",
   "execution_count": 9,
   "metadata": {},
   "outputs": [],
   "source": [
    "#Compute thee average quantity sold per month\n",
    "group = data.groupby(['date_block_num', 'shop_id']).agg({'item_cnt_month': ['mean']})\n",
    "group.columns = [ 'date_shop_avg_item_cnt' ]\n",
    "group.reset_index(inplace=True)\n",
    "#merge\n",
    "data = pd.merge(data, group,on=['date_block_num','shop_id'], how='left', suffixes=('', '_y'))\n",
    "data.drop(data.filter(regex='_y$').columns.tolist(),axis=1, inplace=True)\n",
    "\n",
    "data['date_shop_avg_item_cnt'] = data['date_shop_avg_item_cnt'].astype(np.float16)\n",
    "## use lag feature as before\n",
    "data = lag_feature(data, [1,2,3,6,12], 'date_shop_avg_item_cnt')\n",
    "data.drop(['date_shop_avg_item_cnt'], axis=1, inplace=True)"
   ]
  },
  {
   "cell_type": "code",
   "execution_count": 11,
   "metadata": {},
   "outputs": [],
   "source": [
    "#Compute the average quantity sold per month, item_category\n",
    "group = data.groupby(['date_block_num', 'item_category_id']).agg({'item_cnt_month': ['mean']})\n",
    "group.columns = [ 'date_cat_avg_item_cnt' ]\n",
    "group.reset_index(inplace=True)\n",
    "\n",
    "## merge\n",
    "data = pd.merge(data, group, on=['date_block_num','item_category_id'], how='left', suffixes=('', '_y'))\n",
    "data.drop(data.filter(regex='_y$').columns.tolist(),axis=1, inplace=True)\n",
    "data['date_cat_avg_item_cnt'] = data['date_cat_avg_item_cnt'].astype(np.float16)\n",
    "## use lag feature as before\n",
    "data = lag_feature(data, [1], 'date_cat_avg_item_cnt')\n",
    "data.drop(['date_cat_avg_item_cnt'], axis=1, inplace=True)"
   ]
  },
  {
   "cell_type": "code",
   "execution_count": 12,
   "metadata": {},
   "outputs": [],
   "source": [
    "def calculate_trend(df_in, lag_list, group_var, columns, fill_value = np.inf, replace_value = True):  \n",
    "# X_trendN = 100 * [X(t)-X(t-N)]/X(t-N)\n",
    "    df = df_in.copy()\n",
    "    if isinstance(columns, list)==False:\n",
    "        columns = [columns] \n",
    "\n",
    "    for column in columns:\n",
    "        for lag in lag_list:\n",
    "            trend_column_lag = column + \"_trend\" + str(lag)\n",
    "            df[trend_column_lag] = 100 * (df.groupby(group_var)[column].shift(0) - \n",
    "                                          df.groupby(group_var)[column].shift(lag)) / \\\n",
    "                                          df.groupby(group_var)[column].shift(lag)\n",
    "    \n",
    "    if replace_value:\n",
    "        df.replace([np.inf, -np.inf], 0, inplace=True) # generated by n/0\n",
    "        df.fillna(0, inplace=True)                     # generated by 0/0\n",
    "    return df "
   ]
  },
  {
   "cell_type": "code",
   "execution_count": 14,
   "metadata": {},
   "outputs": [],
   "source": [
    "lag_list = [1, 2, 3] \n",
    "data = calculate_trend(data, lag_list, ['shop_id', 'item_id'], columns=['item_count_lag_1'])"
   ]
  },
  {
   "cell_type": "code",
   "execution_count": 15,
   "metadata": {},
   "outputs": [],
   "source": [
    "data.fillna(0,inplace=True)"
   ]
  },
  {
   "cell_type": "code",
   "execution_count": 16,
   "metadata": {},
   "outputs": [],
   "source": [
    "df_copy=data.copy()"
   ]
  },
  {
   "cell_type": "code",
   "execution_count": 27,
   "metadata": {},
   "outputs": [
    {
     "data": {
      "text/plain": [
       "Index(['date_block_num', 'shop_id', 'city_code', 'item_id', 'item_category_id',\n",
       "       'type', 'subtype', 'item_cnt_month', 'item_count_lag_1',\n",
       "       'item_count_lag_2', 'item_count_lag_3', 'item_count_lag_6',\n",
       "       'item_count_lag_12', 'item_count_lag_1_trend6',\n",
       "       'item_count_lag_1_trend12', 'date_item_avg_item_cnt_lag_1',\n",
       "       'date_item_avg_item_cnt_lag_2', 'date_item_avg_item_cnt_lag_3',\n",
       "       'date_item_avg_item_cnt_lag_6', 'date_item_avg_item_cnt_lag_12',\n",
       "       'date_shop_avg_item_cnt_lag_1', 'date_shop_avg_item_cnt_lag_2',\n",
       "       'date_shop_avg_item_cnt_lag_3', 'date_shop_avg_item_cnt_lag_6',\n",
       "       'date_shop_avg_item_cnt_lag_12', 'date_cat_avg_item_cnt_lag_1',\n",
       "       'item_count_lag_1_trend1', 'item_count_lag_1_trend2',\n",
       "       'item_count_lag_1_trend3'],\n",
       "      dtype='object')"
      ]
     },
     "execution_count": 27,
     "metadata": {},
     "output_type": "execute_result"
    }
   ],
   "source": [
    "df_copy.columns"
   ]
  },
  {
   "cell_type": "code",
   "execution_count": 47,
   "metadata": {},
   "outputs": [],
   "source": [
    "data=df_copy[['date_block_num', 'shop_id', 'item_id', 'item_category_id',\n",
    "       'subtype', 'item_cnt_month', 'item_count_lag_1',\n",
    "       'item_count_lag_2', 'item_count_lag_3', 'item_count_lag_6',\n",
    "       'item_count_lag_12', 'item_count_lag_1_trend6',\n",
    "       'item_count_lag_1_trend12', 'date_item_avg_item_cnt_lag_1',\n",
    "       'date_item_avg_item_cnt_lag_2', 'date_item_avg_item_cnt_lag_3',\n",
    "       'date_item_avg_item_cnt_lag_6', 'date_item_avg_item_cnt_lag_12',\n",
    "       'date_shop_avg_item_cnt_lag_1', 'date_shop_avg_item_cnt_lag_2',\n",
    "       'date_shop_avg_item_cnt_lag_3', 'date_shop_avg_item_cnt_lag_6',\n",
    "       'date_shop_avg_item_cnt_lag_12', 'date_cat_avg_item_cnt_lag_1',\n",
    "       'item_count_lag_1_trend1', 'item_count_lag_1_trend2',\n",
    "       'item_count_lag_1_trend3']]\n",
    "data=data[data['date_block_num']>=12]"
   ]
  },
  {
   "cell_type": "code",
   "execution_count": 48,
   "metadata": {
    "scrolled": false
   },
   "outputs": [
    {
     "name": "stdout",
     "output_type": "stream",
     "text": [
      "(6425094, 27)\n",
      "Index(['date_block_num', 'shop_id', 'item_id', 'item_category_id', 'subtype',\n",
      "       'item_cnt_month', 'item_count_lag_1', 'item_count_lag_2',\n",
      "       'item_count_lag_3', 'item_count_lag_6', 'item_count_lag_12',\n",
      "       'item_count_lag_1_trend6', 'item_count_lag_1_trend12',\n",
      "       'date_item_avg_item_cnt_lag_1', 'date_item_avg_item_cnt_lag_2',\n",
      "       'date_item_avg_item_cnt_lag_3', 'date_item_avg_item_cnt_lag_6',\n",
      "       'date_item_avg_item_cnt_lag_12', 'date_shop_avg_item_cnt_lag_1',\n",
      "       'date_shop_avg_item_cnt_lag_2', 'date_shop_avg_item_cnt_lag_3',\n",
      "       'date_shop_avg_item_cnt_lag_6', 'date_shop_avg_item_cnt_lag_12',\n",
      "       'date_cat_avg_item_cnt_lag_1', 'item_count_lag_1_trend1',\n",
      "       'item_count_lag_1_trend2', 'item_count_lag_1_trend3'],\n",
      "      dtype='object')\n"
     ]
    },
    {
     "data": {
      "text/html": [
       "<div>\n",
       "<style scoped>\n",
       "    .dataframe tbody tr th:only-of-type {\n",
       "        vertical-align: middle;\n",
       "    }\n",
       "\n",
       "    .dataframe tbody tr th {\n",
       "        vertical-align: top;\n",
       "    }\n",
       "\n",
       "    .dataframe thead th {\n",
       "        text-align: right;\n",
       "    }\n",
       "</style>\n",
       "<table border=\"1\" class=\"dataframe\">\n",
       "  <thead>\n",
       "    <tr style=\"text-align: right;\">\n",
       "      <th></th>\n",
       "      <th>date_block_num</th>\n",
       "      <th>shop_id</th>\n",
       "      <th>item_id</th>\n",
       "      <th>item_category_id</th>\n",
       "      <th>subtype</th>\n",
       "      <th>item_cnt_month</th>\n",
       "      <th>item_count_lag_1</th>\n",
       "      <th>item_count_lag_2</th>\n",
       "      <th>item_count_lag_3</th>\n",
       "      <th>item_count_lag_6</th>\n",
       "      <th>...</th>\n",
       "      <th>date_item_avg_item_cnt_lag_12</th>\n",
       "      <th>date_shop_avg_item_cnt_lag_1</th>\n",
       "      <th>date_shop_avg_item_cnt_lag_2</th>\n",
       "      <th>date_shop_avg_item_cnt_lag_3</th>\n",
       "      <th>date_shop_avg_item_cnt_lag_6</th>\n",
       "      <th>date_shop_avg_item_cnt_lag_12</th>\n",
       "      <th>date_cat_avg_item_cnt_lag_1</th>\n",
       "      <th>item_count_lag_1_trend1</th>\n",
       "      <th>item_count_lag_1_trend2</th>\n",
       "      <th>item_count_lag_1_trend3</th>\n",
       "    </tr>\n",
       "  </thead>\n",
       "  <tbody>\n",
       "    <tr>\n",
       "      <th>4488756</th>\n",
       "      <td>12</td>\n",
       "      <td>54</td>\n",
       "      <td>10297</td>\n",
       "      <td>37</td>\n",
       "      <td>1</td>\n",
       "      <td>4</td>\n",
       "      <td>3.0</td>\n",
       "      <td>0.0</td>\n",
       "      <td>0.0</td>\n",
       "      <td>0.0</td>\n",
       "      <td>...</td>\n",
       "      <td>0.0</td>\n",
       "      <td>1.186523</td>\n",
       "      <td>0.986328</td>\n",
       "      <td>0.000000</td>\n",
       "      <td>0.000000</td>\n",
       "      <td>0.0</td>\n",
       "      <td>0.234009</td>\n",
       "      <td>0.000000</td>\n",
       "      <td>0.0</td>\n",
       "      <td>0.0</td>\n",
       "    </tr>\n",
       "    <tr>\n",
       "      <th>4488757</th>\n",
       "      <td>12</td>\n",
       "      <td>54</td>\n",
       "      <td>10296</td>\n",
       "      <td>38</td>\n",
       "      <td>2</td>\n",
       "      <td>3</td>\n",
       "      <td>0.0</td>\n",
       "      <td>0.0</td>\n",
       "      <td>0.0</td>\n",
       "      <td>0.0</td>\n",
       "      <td>...</td>\n",
       "      <td>0.0</td>\n",
       "      <td>1.186523</td>\n",
       "      <td>0.000000</td>\n",
       "      <td>0.000000</td>\n",
       "      <td>0.000000</td>\n",
       "      <td>0.0</td>\n",
       "      <td>0.243774</td>\n",
       "      <td>0.000000</td>\n",
       "      <td>0.0</td>\n",
       "      <td>0.0</td>\n",
       "    </tr>\n",
       "    <tr>\n",
       "      <th>4488758</th>\n",
       "      <td>12</td>\n",
       "      <td>54</td>\n",
       "      <td>10298</td>\n",
       "      <td>40</td>\n",
       "      <td>6</td>\n",
       "      <td>14</td>\n",
       "      <td>21.0</td>\n",
       "      <td>119.0</td>\n",
       "      <td>7.0</td>\n",
       "      <td>0.0</td>\n",
       "      <td>...</td>\n",
       "      <td>0.0</td>\n",
       "      <td>1.186523</td>\n",
       "      <td>0.986328</td>\n",
       "      <td>0.830566</td>\n",
       "      <td>0.000000</td>\n",
       "      <td>0.0</td>\n",
       "      <td>0.309082</td>\n",
       "      <td>-82.352941</td>\n",
       "      <td>200.0</td>\n",
       "      <td>0.0</td>\n",
       "    </tr>\n",
       "    <tr>\n",
       "      <th>4488759</th>\n",
       "      <td>12</td>\n",
       "      <td>54</td>\n",
       "      <td>10300</td>\n",
       "      <td>37</td>\n",
       "      <td>1</td>\n",
       "      <td>3</td>\n",
       "      <td>1.0</td>\n",
       "      <td>31.0</td>\n",
       "      <td>0.0</td>\n",
       "      <td>0.0</td>\n",
       "      <td>...</td>\n",
       "      <td>0.0</td>\n",
       "      <td>1.186523</td>\n",
       "      <td>0.986328</td>\n",
       "      <td>0.830566</td>\n",
       "      <td>0.000000</td>\n",
       "      <td>0.0</td>\n",
       "      <td>0.234009</td>\n",
       "      <td>-96.774194</td>\n",
       "      <td>0.0</td>\n",
       "      <td>0.0</td>\n",
       "    </tr>\n",
       "    <tr>\n",
       "      <th>4488760</th>\n",
       "      <td>12</td>\n",
       "      <td>54</td>\n",
       "      <td>10284</td>\n",
       "      <td>57</td>\n",
       "      <td>10</td>\n",
       "      <td>1</td>\n",
       "      <td>0.0</td>\n",
       "      <td>0.0</td>\n",
       "      <td>0.0</td>\n",
       "      <td>1.0</td>\n",
       "      <td>...</td>\n",
       "      <td>0.0</td>\n",
       "      <td>1.186523</td>\n",
       "      <td>0.986328</td>\n",
       "      <td>0.830566</td>\n",
       "      <td>0.859375</td>\n",
       "      <td>0.0</td>\n",
       "      <td>0.138306</td>\n",
       "      <td>0.000000</td>\n",
       "      <td>0.0</td>\n",
       "      <td>0.0</td>\n",
       "    </tr>\n",
       "  </tbody>\n",
       "</table>\n",
       "<p>5 rows × 27 columns</p>\n",
       "</div>"
      ],
      "text/plain": [
       "         date_block_num  shop_id  item_id  item_category_id  subtype  \\\n",
       "4488756              12       54    10297                37        1   \n",
       "4488757              12       54    10296                38        2   \n",
       "4488758              12       54    10298                40        6   \n",
       "4488759              12       54    10300                37        1   \n",
       "4488760              12       54    10284                57       10   \n",
       "\n",
       "         item_cnt_month  item_count_lag_1  item_count_lag_2  item_count_lag_3  \\\n",
       "4488756               4               3.0               0.0               0.0   \n",
       "4488757               3               0.0               0.0               0.0   \n",
       "4488758              14              21.0             119.0               7.0   \n",
       "4488759               3               1.0              31.0               0.0   \n",
       "4488760               1               0.0               0.0               0.0   \n",
       "\n",
       "         item_count_lag_6  ...  date_item_avg_item_cnt_lag_12  \\\n",
       "4488756               0.0  ...                            0.0   \n",
       "4488757               0.0  ...                            0.0   \n",
       "4488758               0.0  ...                            0.0   \n",
       "4488759               0.0  ...                            0.0   \n",
       "4488760               1.0  ...                            0.0   \n",
       "\n",
       "         date_shop_avg_item_cnt_lag_1  date_shop_avg_item_cnt_lag_2  \\\n",
       "4488756                      1.186523                      0.986328   \n",
       "4488757                      1.186523                      0.000000   \n",
       "4488758                      1.186523                      0.986328   \n",
       "4488759                      1.186523                      0.986328   \n",
       "4488760                      1.186523                      0.986328   \n",
       "\n",
       "         date_shop_avg_item_cnt_lag_3  date_shop_avg_item_cnt_lag_6  \\\n",
       "4488756                      0.000000                      0.000000   \n",
       "4488757                      0.000000                      0.000000   \n",
       "4488758                      0.830566                      0.000000   \n",
       "4488759                      0.830566                      0.000000   \n",
       "4488760                      0.830566                      0.859375   \n",
       "\n",
       "         date_shop_avg_item_cnt_lag_12  date_cat_avg_item_cnt_lag_1  \\\n",
       "4488756                            0.0                     0.234009   \n",
       "4488757                            0.0                     0.243774   \n",
       "4488758                            0.0                     0.309082   \n",
       "4488759                            0.0                     0.234009   \n",
       "4488760                            0.0                     0.138306   \n",
       "\n",
       "         item_count_lag_1_trend1  item_count_lag_1_trend2  \\\n",
       "4488756                 0.000000                      0.0   \n",
       "4488757                 0.000000                      0.0   \n",
       "4488758               -82.352941                    200.0   \n",
       "4488759               -96.774194                      0.0   \n",
       "4488760                 0.000000                      0.0   \n",
       "\n",
       "         item_count_lag_1_trend3  \n",
       "4488756                      0.0  \n",
       "4488757                      0.0  \n",
       "4488758                      0.0  \n",
       "4488759                      0.0  \n",
       "4488760                      0.0  \n",
       "\n",
       "[5 rows x 27 columns]"
      ]
     },
     "execution_count": 48,
     "metadata": {},
     "output_type": "execute_result"
    }
   ],
   "source": [
    "print(data.shape)\n",
    "print(data.columns)\n",
    "data.head()"
   ]
  },
  {
   "cell_type": "code",
   "execution_count": 49,
   "metadata": {},
   "outputs": [],
   "source": [
    "def split(day_lim,date,df,target,day_lim_min=-1,day_lim_max=-1, just_train=False):\n",
    "    train=df[df[date]<day_lim]\n",
    "    test=df[df[date]>=day_lim]\n",
    "\n",
    "    if just_train==True:\n",
    "        return (train,test)\n",
    "    else:\n",
    "\n",
    "        X_train=train.drop([target],1)\n",
    "        y_train=train[[target,date]]\n",
    "\n",
    "        X_test=test.drop([target],1)\n",
    "        y_test=test[[target,date]]\n",
    "\n",
    "        if day_lim_max!=-1:\n",
    "            X_validate=X_test[X_test[date]>day_lim_max]\n",
    "            y_validate=y_test[y_test[date]>day_lim_max]\n",
    "            X_test=X_test[X_test[date]<=day_lim_max]\n",
    "            y_test=y_test[y_test[date]<=day_lim_max]\n",
    "\n",
    "            y_train.drop(date,1,inplace=True)\n",
    "            y_validate.drop(date,1,inplace=True)\n",
    "            y_test.drop(date,1,inplace=True)\n",
    "            print('train shape:',X_train.shape,y_train.shape)\n",
    "            print('test shape:',X_test.shape,y_test.shape)\n",
    "            print('validation shape:',X_validate.shape,y_validate.shape)\n",
    "\n",
    "            return (X_train,y_train,X_test,y_test,X_validate,y_validate)    \n",
    "\n",
    "        else:\n",
    "\n",
    "            if day_lim_min!=-1:\n",
    "                X_train=X_train[X_train[date]>=day_lim_min]\n",
    "                y_train=y_train[y_train[date]>=day_lim_min]\n",
    "\n",
    "            y_train.drop(date,1,inplace=True)\n",
    "            y_test.drop(date,1,inplace=True)\n",
    "\n",
    "            print('train shape:',X_train.shape,y_train.shape)\n",
    "            print('test shape:',X_test.shape,y_test.shape)\n",
    "\n",
    "            return (X_train,y_train,X_test,y_test)\n"
   ]
  },
  {
   "cell_type": "code",
   "execution_count": 50,
   "metadata": {
    "scrolled": true
   },
   "outputs": [
    {
     "name": "stderr",
     "output_type": "stream",
     "text": [
      "C:\\Users\\Utente\\Miniconda3\\lib\\site-packages\\pandas\\core\\frame.py:3930: SettingWithCopyWarning: \n",
      "A value is trying to be set on a copy of a slice from a DataFrame\n",
      "\n",
      "See the caveats in the documentation: http://pandas.pydata.org/pandas-docs/stable/indexing.html#indexing-view-versus-copy\n",
      "  errors=errors)\n"
     ]
    },
    {
     "name": "stdout",
     "output_type": "stream",
     "text": [
      "train shape: (5968267, 26) (5968267, 1)\n",
      "test shape: (456827, 26) (456827, 1)\n"
     ]
    }
   ],
   "source": [
    "X_train,y_train,X_test,y_test=split(day_lim=32,date='date_block_num',df=data,target='item_cnt_month')"
   ]
  },
  {
   "cell_type": "code",
   "execution_count": 51,
   "metadata": {
    "scrolled": true
   },
   "outputs": [
    {
     "name": "stdout",
     "output_type": "stream",
     "text": [
      "Index(['date_block_num', 'shop_id', 'item_id', 'item_category_id', 'subtype',\n",
      "       'item_count_lag_1', 'item_count_lag_2', 'item_count_lag_3',\n",
      "       'item_count_lag_6', 'item_count_lag_12', 'item_count_lag_1_trend6',\n",
      "       'item_count_lag_1_trend12', 'date_item_avg_item_cnt_lag_1',\n",
      "       'date_item_avg_item_cnt_lag_2', 'date_item_avg_item_cnt_lag_3',\n",
      "       'date_item_avg_item_cnt_lag_6', 'date_item_avg_item_cnt_lag_12',\n",
      "       'date_shop_avg_item_cnt_lag_1', 'date_shop_avg_item_cnt_lag_2',\n",
      "       'date_shop_avg_item_cnt_lag_3', 'date_shop_avg_item_cnt_lag_6',\n",
      "       'date_shop_avg_item_cnt_lag_12', 'date_cat_avg_item_cnt_lag_1',\n",
      "       'item_count_lag_1_trend1', 'item_count_lag_1_trend2',\n",
      "       'item_count_lag_1_trend3'],\n",
      "      dtype='object')\n",
      "Index(['item_cnt_month'], dtype='object')\n"
     ]
    }
   ],
   "source": [
    "print(X_train.columns)\n",
    "print(y_train.columns)"
   ]
  },
  {
   "cell_type": "markdown",
   "metadata": {},
   "source": [
    "### Modelling"
   ]
  },
  {
   "cell_type": "markdown",
   "metadata": {},
   "source": [
    "LightGBM, gain importance features"
   ]
  },
  {
   "cell_type": "code",
   "execution_count": 52,
   "metadata": {
    "scrolled": true
   },
   "outputs": [
    {
     "data": {
      "text/plain": [
       "LGBMRegressor(boosting_type='goss', class_weight=None, colsample_bytree=1.0,\n",
       "              importance_type='gain', learning_rate=0.1, max_depth=-1,\n",
       "              min_child_samples=20, min_child_weight=0.001, min_split_gain=0.0,\n",
       "              n_estimators=100, n_jobs=-1, num_leaves=31, objective=None,\n",
       "              random_state=None, reg_alpha=0.0, reg_lambda=0.0, silent=True,\n",
       "              subsample=1.0, subsample_for_bin=200000, subsample_freq=0)"
      ]
     },
     "execution_count": 52,
     "metadata": {},
     "output_type": "execute_result"
    }
   ],
   "source": [
    "#LightGBM = LGBMRegressor(boosting_type='goss', importance_type='gain') \n",
    "#LightGBM.fit(X_train, y_train) \n"
   ]
  },
  {
   "cell_type": "markdown",
   "metadata": {},
   "source": [
    "LightGBM, split importance features"
   ]
  },
  {
   "cell_type": "code",
   "execution_count": null,
   "metadata": {},
   "outputs": [],
   "source": [
    "#LightGBM = LGBMRegressor(boosting_type='goss', importance_type='split') \n",
    "#LightGBM.fit(X_train, y_train) \n"
   ]
  },
  {
   "cell_type": "code",
   "execution_count": 79,
   "metadata": {},
   "outputs": [],
   "source": [
    "n_estimators = [int(x) for x in np.linspace(start = 90, stop = 150, num = 10)]\n",
    "boosting_type = ['goss']\n",
    "\n",
    "def params_opt(n_estimators, boosting_type):\n",
    "    \n",
    "    RMSE_win = np.inf\n",
    "    opt_params = {'boosting_type': boosting_type, 'n_estimators': 100} \n",
    "    \n",
    "    for trees in n_estimators:\n",
    "        params_grid = {'boosting_type': boosting_type, 'n_estimators': trees} \n",
    "        model = LGBMRegressor(**params_grid) \n",
    "        model.fit(X_train, y_train) \n",
    "        y_train_pred = pd.Series(model.predict(X_train)).apply(lambda x: round(x))\n",
    "        y_test_pred = pd.Series(model.predict(X_test)).apply(lambda x: round(x)) \n",
    "        RMSE = np.sqrt(mean_squared_error(y_test_pred, y_test)) \n",
    "        if RMSE<RMSE_win:\n",
    "            RMSE_win = RMSE\n",
    "            opt_params = {'boosting_type': boosting_type, 'n_estimators': trees}\n",
    "    return RMSE_win, opt_params,y_test_pred,y_train_pred"
   ]
  },
  {
   "cell_type": "code",
   "execution_count": 80,
   "metadata": {},
   "outputs": [],
   "source": [
    "RMSE_win,opt_params,test_pred,train_pred=params_opt(n_estimators,boosting_type)"
   ]
  },
  {
   "cell_type": "code",
   "execution_count": 81,
   "metadata": {},
   "outputs": [
    {
     "data": {
      "text/plain": [
       "5.3323185839127785"
      ]
     },
     "execution_count": 81,
     "metadata": {},
     "output_type": "execute_result"
    }
   ],
   "source": [
    "RMSE_win"
   ]
  },
  {
   "cell_type": "code",
   "execution_count": 82,
   "metadata": {},
   "outputs": [
    {
     "data": {
      "text/plain": [
       "{'boosting_type': ['goss'], 'n_estimators': 143}"
      ]
     },
     "execution_count": 82,
     "metadata": {},
     "output_type": "execute_result"
    }
   ],
   "source": [
    "opt_params"
   ]
  },
  {
   "cell_type": "code",
   "execution_count": 85,
   "metadata": {},
   "outputs": [
    {
     "data": {
      "text/plain": [
       "LGBMRegressor(boosting_type=['goss'], class_weight=None, colsample_bytree=1.0,\n",
       "              importance_type='split', learning_rate=0.1, max_depth=-1,\n",
       "              min_child_samples=20, min_child_weight=0.001, min_split_gain=0.0,\n",
       "              n_estimators=143, n_jobs=-1, num_leaves=31, objective=None,\n",
       "              random_state=None, reg_alpha=0.0, reg_lambda=0.0, silent=True,\n",
       "              subsample=1.0, subsample_for_bin=200000, subsample_freq=0)"
      ]
     },
     "execution_count": 85,
     "metadata": {},
     "output_type": "execute_result"
    }
   ],
   "source": [
    "LightGBM = LGBMRegressor(**opt_params) \n",
    "LightGBM.fit(X_train, y_train) "
   ]
  },
  {
   "cell_type": "code",
   "execution_count": 86,
   "metadata": {},
   "outputs": [],
   "source": [
    "y_train_pred = pd.Series(LightGBM.predict(X_train)).apply(lambda x: round(x))\n",
    "y_test_pred = pd.Series(LightGBM.predict(X_test)).apply(lambda x: round(x))"
   ]
  },
  {
   "cell_type": "code",
   "execution_count": 87,
   "metadata": {
    "scrolled": false
   },
   "outputs": [
    {
     "name": "stdout",
     "output_type": "stream",
     "text": [
      "MAE Train is 0.2753253163774342\n",
      "RMSE Train is 1.7844682328682835\n",
      "\n",
      "MAE Test is 0.3086726485080786\n",
      "RMSE Test is 5.3323185839127785\n"
     ]
    }
   ],
   "source": [
    "print(f'MAE Train is {mean_absolute_error(y_train_pred, y_train)}')\n",
    "print(f'RMSE Train is {np.sqrt(mean_squared_error(y_train_pred, y_train))}\\n')\n",
    "print(f'MAE Test is {mean_absolute_error(y_test_pred, y_test)}')\n",
    "print(f'RMSE Test is {np.sqrt(mean_squared_error(y_test_pred, y_test))}') "
   ]
  },
  {
   "cell_type": "code",
   "execution_count": 56,
   "metadata": {},
   "outputs": [],
   "source": [
    "df_LGBM = pd.DataFrame(pd.Series(LightGBM.feature_importances_, index=X_train.columns).\\\n",
    "sort_values(ascending=False)).\\\n",
    "reset_index().\\\n",
    "rename(columns={'index':'feature',0:'score'})\n",
    "df_LGBM['model'] = 'XGBoost'"
   ]
  },
  {
   "cell_type": "code",
   "execution_count": 57,
   "metadata": {
    "scrolled": true
   },
   "outputs": [
    {
     "data": {
      "image/png": "[encoded data removed]",
      "text/plain": [
       "<Figure size 432x288 with 1 Axes>"
      ]
     },
     "metadata": {
      "needs_background": "light"
     },
     "output_type": "display_data"
    }
   ],
   "source": [
    "df_LGBM.set_index('feature')['score'].plot(kind='bar')\n",
    "plt.show()"
   ]
  },
  {
   "cell_type": "markdown",
   "metadata": {},
   "source": [
    "Cumulative error per month per shop-- N.B"
   ]
  },
  {
   "cell_type": "code",
   "execution_count": 68,
   "metadata": {},
   "outputs": [],
   "source": [
    "shop=data[['date_block_num','shop_id','item_cnt_month']].reset_index()\n",
    "shop.drop(['index'],1,inplace=True)\n",
    "shop['pred']=pred\n",
    "shops=shop.groupby(['date_block_num','shop_id']).sum().reset_index()"
   ]
  },
  {
   "cell_type": "code",
   "execution_count": 70,
   "metadata": {
    "scrolled": true
   },
   "outputs": [
    {
     "name": "stdout",
     "output_type": "stream",
     "text": [
      "0          8\n",
      "1        142\n",
      "2        147\n",
      "3        433\n",
      "4         26\n",
      "5        407\n",
      "6        117\n",
      "7        281\n",
      "8        103\n",
      "9        219\n",
      "10       340\n",
      "11       165\n",
      "12       204\n",
      "13        73\n",
      "14       603\n",
      "15       139\n",
      "16        36\n",
      "17       340\n",
      "18       643\n",
      "19        13\n",
      "20       635\n",
      "21      1663\n",
      "22        29\n",
      "23       360\n",
      "24       313\n",
      "25       182\n",
      "26       104\n",
      "27        32\n",
      "28       349\n",
      "29       203\n",
      "        ... \n",
      "1009    1376\n",
      "1010     760\n",
      "1011     421\n",
      "1012     330\n",
      "1013    1485\n",
      "1014     252\n",
      "1015     717\n",
      "1016     800\n",
      "1017      42\n",
      "1018     460\n",
      "1019    1279\n",
      "1020      79\n",
      "1021     175\n",
      "1022     366\n",
      "1023     173\n",
      "1024    1759\n",
      "1025     223\n",
      "1026     151\n",
      "1027     427\n",
      "1028     477\n",
      "1029     345\n",
      "1030     101\n",
      "1031     260\n",
      "1032     126\n",
      "1033     262\n",
      "1034    1030\n",
      "1035     455\n",
      "1036     809\n",
      "1037     451\n",
      "1038      35\n",
      "Length: 1039, dtype: int64\n",
      "578.5851780558229\n"
     ]
    }
   ],
   "source": [
    "print(np.absolute(shops.item_cnt_month - shops.pred)) \n",
    "print(np.mean(np.absolute(shops.item_cnt_month - shops.pred))) "
   ]
  },
  {
   "cell_type": "markdown",
   "metadata": {},
   "source": [
    "Cumulative error per month"
   ]
  },
  {
   "cell_type": "code",
   "execution_count": 59,
   "metadata": {},
   "outputs": [],
   "source": [
    "# Graph predictions \n",
    "pred = pd.concat([pd.DataFrame(y_train_pred), pd.DataFrame(y_test_pred)]) \n",
    "pred = pred.rename({0:'pred'}, axis=1) \n",
    "pred = pred.apply(lambda x: round(x)) \n",
    "pred = pred.reset_index(drop=True) \n",
    "sales=data[['date_block_num','item_cnt_month']].reset_index()\n",
    "sales.drop(['index'],1,inplace=True)\n",
    "sales['predictions']=pred"
   ]
  },
  {
   "cell_type": "code",
   "execution_count": 60,
   "metadata": {
    "scrolled": true
   },
   "outputs": [
    {
     "data": {
      "text/plain": [
       "[<matplotlib.lines.Line2D at 0x1ddc2831d08>]"
      ]
     },
     "execution_count": 60,
     "metadata": {},
     "output_type": "execute_result"
    },
    {
     "data": {
      "image/png": "[encoded data removed]",
      "text/plain": [
       "<Figure size 432x288 with 1 Axes>"
      ]
     },
     "metadata": {
      "needs_background": "light"
     },
     "output_type": "display_data"
    }
   ],
   "source": [
    "sales_group=sales.groupby('date_block_num').sum().reset_index()\n",
    "sales_group\n",
    "plt.plot(sales_group.date_block_num,sales_group.predictions)\n",
    "plt.plot(sales_group.date_block_num,sales_group.item_cnt_month)"
   ]
  },
  {
   "cell_type": "code",
   "execution_count": 61,
   "metadata": {},
   "outputs": [
    {
     "name": "stdout",
     "output_type": "stream",
     "text": [
      "0     10451\n",
      "1     27315\n",
      "2     29169\n",
      "3     20009\n",
      "4     30546\n",
      "5     30137\n",
      "6     24505\n",
      "7     37628\n",
      "8     24224\n",
      "9     32332\n",
      "10    36818\n",
      "11    59497\n",
      "12     6262\n",
      "13    13413\n",
      "14    21918\n",
      "15    19092\n",
      "16    23623\n",
      "17    17291\n",
      "18    19656\n",
      "19    24889\n",
      "20    25824\n",
      "21    17893\n",
      "dtype: int64\n",
      "25113.272727272728\n"
     ]
    }
   ],
   "source": [
    "print(np.absolute(sales_group.item_cnt_month - sales_group.predictions)) \n",
    "print(np.mean(np.absolute(sales_group.item_cnt_month - sales_group.predictions))) "
   ]
  },
  {
   "cell_type": "code",
   "execution_count": null,
   "metadata": {},
   "outputs": [],
   "source": []
  }
 ],
 "metadata": {
  "kernelspec": {
   "display_name": "Python 3",
   "language": "python",
   "name": "python3"
  },
  "language_info": {
   "codemirror_mode": {
    "name": "ipython",
    "version": 3
   },
   "file_extension": ".py",
   "mimetype": "text/x-python",
   "name": "python",
   "nbconvert_exporter": "python",
   "pygments_lexer": "ipython3",
   "version": "3.7.4"
  }
 },
 "nbformat": 4,
 "nbformat_minor": 4
}
